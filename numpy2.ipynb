{
 "cells": [
  {
   "cell_type": "code",
   "execution_count": 2,
   "id": "056c4914-76d8-441c-81eb-79adc925c276",
   "metadata": {},
   "outputs": [],
   "source": [
    "#A Python library is a collection of pre-written code that you can use to perform common tasks without having to write the code from scratch. These libraries contain functions, classes, and modules that can be imported into your Python programs to provide additional functionality.\n",
    "\n",
    "#Why We Use Python Libraries:\n",
    "#Efficiency:\n",
    "\n",
    "#Save Time: Libraries provide pre-written functions and classes, allowing you to avoid writing code from scratch.\n",
    "#Code Reuse: Reuse existing, well-tested code, which can significantly speed up the development process.\n",
    "###Functionality:\n",
    "\n",
    "#Specialized Tools: Many libraries are designed for specific tasks such as data analysis, web development, machine learning, etc. For example, NumPy and pandas for data analysis, Flask and Django for web development, and TensorFlow and PyTorch for machine learning.\n",
    "#Extended Capabilities: They extend the basic functionalities of Python, enabling you to accomplish more complex tasks that are not feasible with the standard library alone.\n",
    "#Reliability:\n",
    "\n",
    "#Well-Tested: Libraries, especially popular ones, are often well-tested and maintained by a community of developers, which ensures they are reliable and less prone to bugs.\n",
    "#Community Support: Popular libraries have a large user base and community support, making it easier to find help, documentation, and tutorials.\n",
    "#Consistency:\n",
    "\n",
    "#Standard Practices: Libraries often follow standard practices and conventions, promoting consistency in your code.\n",
    "#Maintenance: Using well-maintained libraries ensures that your codebase can stay updated with minimal effort.\n",
    "#Examples of Popular Python Libraries:\n",
    "#NumPy: For numerical computations and handling large multi-dimensional arrays and matrices.\n",
    "#pandas: For data manipulation and analysis.\n",
    "#Matplotlib: For data visualization and plotting.\n",
    "#Requests: For making HTTP requests.\n",
    "#Beautiful Soup: For web scraping and parsing HTML and XML documents.\n",
    "#Flask and Django: For web development.\n",
    "#TensorFlow and PyTorch: For machine learning and deep learning.\n",
    "#How to Use Python Libraries:\n",
    "#To use a library, you typically need to install it (if it's not included in the standard library) and then import it into your Python script. For example:"
   ]
  },
  {
   "cell_type": "code",
   "execution_count": 5,
   "id": "f5365a2c-72eb-4f55-9676-422a7eceb2c6",
   "metadata": {},
   "outputs": [],
   "source": [
    "##What is a Python library? Why ^o we use Python libraries?\n",
    "##A Python library is a collection of pre-written code that you can use to perform common tasks without having to write the code from scratch. These libraries contain functions, classes, and modules that can be imported into your Python programs to provide additional functionality.\n",
    "\n",
    "#Why We Use Python Libraries:\n",
    "#Efficiency:\n",
    "\n",
    "#Save Time: Libraries provide pre-written functions and classes, allowing you to avoid writing code from scratch.\n",
    "#Code Reuse: Reuse existing, well-tested code, which can significantly speed up the development process.\n",
    "#Functionality:\n",
    "\n",
    "#Specialized Tools: Many libraries are designed for specific tasks such as data analysis, web development, machine learning, etc. For example, NumPy and pandas for data analysis, Flask and Django for web development, and TensorFlow and PyTorch for machine learning.\n",
    "#Extended Capabilities: They extend the basic functionalities of Python, enabling you to accomplish more complex tasks that are not feasible with the standard library alone.\n",
    "#Reliability:\n",
    "\n",
    "#Well-Tested: Libraries, especially popular ones, are often well-tested and maintained by a community of developers, which ensures they are reliable and less prone to bugs.\n",
    "#Community Support: Popular libraries have a large user base and community support, making it easier to find help, documentation, and tutorials.\n",
    "#Consistency:\n",
    "\n",
    "#Standard Practices: Libraries often follow standard practices and conventions, promoting consistency in your code.\n",
    "#Maintenance: Using well-maintained libraries ensures that your codebase can stay updated with minimal effort.\n",
    "#Examples of Popular Python Libraries:\n",
    "#NumPy: For numerical computations and handling large multi-dimensional arrays and matrices.\n",
    "#pandas: For data manipulation and analysis.\n",
    "#Matplotlib: For data visualization and plotting.\n",
    "#Requests: For making HTTP requests.\n",
    "#Beautiful Soup: For web scraping and parsing HTML and XML documents.\n",
    "#Flask and Django: For web development.\n",
    "#TensorFlow and PyTorch: For machine learning and deep learning.\n",
    "#How to Use Python Libraries:\n",
    "#To use a library, you typically need to install it (if it's not included in the standard library) and then import it into your Python script. For example:\n",
    "\n",
    "#python\n",
    "#Copy code\n",
    "# Installing a library (e.g., NumPy)\n",
    "#!pip install numpy\n",
    "\n",
    "# Importing and using the library\n",
    "#import numpy as np\n",
    "\n",
    "# Using a function from the NumPy library\n",
    "#array = np.array([1, 2, 3])\n",
    "#print(array)\n",
    "#By using Python libraries, you leverage the collective knowledge and efforts of the programming community, enabling you to write more efficient, reliable, and maintainable code.\n",
    "\n",
    "# What is the ^ifference between Numpy array an^ List?\n",
    "\n",
    "#The primary differences between a NumPy array and a Python list revolve around performance, functionality, and usage. Here's a detailed comparison:\n",
    "\n",
    "#1. Performance:\n",
    "#NumPy Array: NumPy arrays are more efficient in terms of performance and memory usage, especially when dealing with large datasets. They are implemented in C and optimized for numerical computations, which allows for faster processing of data.\n",
    "#Python List: Python lists are less efficient for numerical computations because they are implemented as dynamic arrays that store references to objects, resulting in higher memory usage and slower performance for numerical operations.\n",
    "#2. Data Types:\n",
    "#NumPy Array: NumPy arrays are homogeneous, meaning all elements must be of the same data type. This uniformity allows NumPy to perform operations more efficiently.\n",
    "#Python List: Python lists are heterogeneous, meaning they can contain elements of different data types. This flexibility can be useful, but it can also lead to inefficiencies in numerical operations.\n",
    "#3. Functionality:\n",
    "#NumPy Array:\n",
    "#Mathematical Operations: NumPy supports a wide range of mathematical operations that can be performed directly on arrays, including element-wise operations, linear algebra, and statistical functions.\n",
    "#Vectorization: Operations on NumPy arrays can be vectorized, allowing for batch processing of data without the need for explicit loops.\n",
    "#Broadcasting: NumPy supports broadcasting, a powerful mechanism that allows operations on arrays of different shapes.\n",
    "#Slicing and Indexing: NumPy provides advanced slicing and indexing capabilities, including boolean indexing and multi-dimensional slicing.\n",
    "#Python List:\n",
    "#General-Purpose Operations: Lists are versatile and can be used for a wide range of tasks beyond numerical computations, such as storing mixed data types and implementing various data structures.\n",
    "#Built-In Methods: Lists have built-in methods for common operations like append, extend, and sort, but lack the extensive mathematical functions provided by NumPy.\n",
    "#4. Memory Efficiency:\n",
    "#NumPy Array: NumPy arrays are more memory-efficient because they store elements in contiguous memory blocks and use fixed-size data types.\n",
    "#Python List: Lists are less memory-efficient because they store references to objects, which can lead to overhead due to dynamic typing and memory fragmentation.\n",
    "#5. Use Cases:\n",
    "#NumPy Array: Best suited for scientific computing, data analysis, and situations where performance and efficiency are critical, especially with large numerical datasets.\n",
    "#Python List: Ideal for general-purpose programming tasks where flexibility and ease of use are more important than performance, and when working with mixed data types."
   ]
  },
  {
   "cell_type": "code",
   "execution_count": 6,
   "id": "d64b6c3f-4de0-442d-9e8c-707c1e407b03",
   "metadata": {},
   "outputs": [
    {
     "name": "stdout",
     "output_type": "stream",
     "text": [
      "Shape: (3, 4)\n",
      "Size: 12\n",
      "Dimension: 2\n"
     ]
    }
   ],
   "source": [
    "import numpy as n\n",
    "array = np.array([\n",
    "    [1, 2, 3, 4],\n",
    "    [5, 6, 7, 8],\n",
    "    [9, 10, 11, 12]\n",
    "])\n",
    "\n",
    "\n",
    "shape = array.shape\n",
    "size = array.size\n",
    "dimension = array.ndim\n",
    "\n",
    "print(f\"Shape: {shape}\")\n",
    "print(f\"Size: {size}\")\n",
    "print(f\"Dimension: {dimension}\")"
   ]
  },
  {
   "cell_type": "code",
   "execution_count": 7,
   "id": "4e19bb48-4e11-4f04-974d-965e56c6c6ee",
   "metadata": {},
   "outputs": [
    {
     "name": "stdout",
     "output_type": "stream",
     "text": [
      "First row: [1 2 3 4]\n"
     ]
    }
   ],
   "source": [
    "import numpy as np\n",
    "\n",
    "\n",
    "array = np.array([\n",
    "    [1, 2, 3, 4],\n",
    "    [5, 6, 7, 8],\n",
    "    [9, 10, 11, 12]\n",
    "])\n",
    "\n",
    "\n",
    "first_row = array[0]\n",
    "\n",
    "print(\"First row:\", first_row)"
   ]
  },
  {
   "cell_type": "code",
   "execution_count": 11,
   "id": "cffa4e25-ed22-4d9d-a09d-3ad1ea6c805d",
   "metadata": {},
   "outputs": [
    {
     "name": "stdout",
     "output_type": "stream",
     "text": [
      "Element at the third row and fourth column: 12\n"
     ]
    }
   ],
   "source": [
    "import numpy as np\n",
    "\n",
    "\n",
    "array = np.array([\n",
    "    [1, 2, 3, 4],\n",
    "    [5, 6, 7, 8],\n",
    "    [9, 10, 11, 12]\n",
    "])\n",
    "\n",
    ":\n",
    "element = array[2, 3]\n",
    "\n",
    "print(\"Element at the third row and fourth column:\", element)"
   ]
  },
  {
   "cell_type": "code",
   "execution_count": 12,
   "id": "b7d6ff9f-6fe4-4560-ab0e-7e1c1dd7b6bc",
   "metadata": {},
   "outputs": [
    {
     "name": "stdout",
     "output_type": "stream",
     "text": [
      "[[ 2  4]\n",
      " [ 6  8]\n",
      " [10 12]]\n"
     ]
    }
   ],
   "source": [
    "import numpy as np\n",
    "\n",
    "\n",
    "arr = np.array([[1, 2, 3, 4], [5, 6, 7, 8], [9, 10, 11, 12]])\n",
    "\n",
    "\n",
    "odd_indexed_elements = arr[:, 1::2]\n",
    "\n",
    "print(odd_indexed_elements)"
   ]
  },
  {
   "cell_type": "code",
   "execution_count": 13,
   "id": "d18c2952-2d99-44a9-b8c1-3cb8fe68e017",
   "metadata": {},
   "outputs": [
    {
     "name": "stdout",
     "output_type": "stream",
     "text": [
      "Original array shape: (3, 4)\n",
      "Expanded array shape: (1, 3, 4)\n",
      "[[[ 1  2  3  4]\n",
      "  [ 5  6  7  8]\n",
      "  [ 9 10 11 12]]]\n"
     ]
    }
   ],
   "source": [
    "import numpy as np\n",
    "\n",
    "\n",
    "arr = np.array([[1, 2, 3, 4], [5, 6, 7, 8], [9, 10, 11, 12]])\n",
    "\n",
    "\n",
    "expanded_arr = np.expand_dims(arr, axis=0)\n",
    "\n",
    "print(\"Original array shape:\", arr.shape)\n",
    "print(\"Expanded array shape:\", expanded_arr.shape)\n",
    "print(expanded_arr)"
   ]
  },
  {
   "cell_type": "code",
   "execution_count": 14,
   "id": "350f4cdf-7ca7-447d-b616-6f63c6bd615d",
   "metadata": {},
   "outputs": [
    {
     "name": "stdout",
     "output_type": "stream",
     "text": [
      "[[ 1  5  9]\n",
      " [ 2  6 10]\n",
      " [ 3  7 11]\n",
      " [ 4  8 12]]\n"
     ]
    }
   ],
   "source": [
    "import numpy as np\n",
    "\n",
    "\n",
    "arr = np.array([[1, 2, 3, 4], [5, 6, 7, 8], [9, 10, 11, 12]])\n",
    "\n",
    "\n",
    "transposed_arr = np.transpose(arr)\n",
    "\n",
    "print(transposed_arr)"
   ]
  },
  {
   "cell_type": "code",
   "execution_count": 15,
   "id": "0a5458e6-198b-4ba1-b09b-c62269a5d357",
   "metadata": {},
   "outputs": [
    {
     "name": "stdout",
     "output_type": "stream",
     "text": [
      "[[ 1  5  9]\n",
      " [ 2  6 10]\n",
      " [ 3  7 11]\n",
      " [ 4  8 12]]\n"
     ]
    }
   ],
   "source": [
    "import numpy as np\n",
    "\n",
    "\n",
    "arr = np.array([[1, 2, 3, 4], [5, 6, 7, 8], [9, 10, 11, 12]])\n",
    "\n",
    "\n",
    "transposed_arr = arr.T\n",
    "\n",
    "print(transposed_arr)"
   ]
  },
  {
   "cell_type": "code",
   "execution_count": 16,
   "id": "664b9240-14fc-459a-9a16-532763628a4e",
   "metadata": {},
   "outputs": [
    {
     "name": "stdout",
     "output_type": "stream",
     "text": [
      "Element-wise Multiplication:\n",
      " [[  1   4   9  16]\n",
      " [ 25  36  49  64]\n",
      " [ 81 100 121 144]]\n",
      "\n",
      "Matrix Multiplication:\n",
      " [[ 30  70 110]\n",
      " [ 70 174 278]\n",
      " [110 278 446]]\n",
      "\n",
      "Addition:\n",
      " [[ 2  4  6  8]\n",
      " [10 12 14 16]\n",
      " [18 20 22 24]]\n",
      "\n",
      "Subtraction:\n",
      " [[0 0 0 0]\n",
      " [0 0 0 0]\n",
      " [0 0 0 0]]\n",
      "\n",
      "Division (Element-wise):\n",
      " [[1. 1. 1. 1.]\n",
      " [1. 1. 1. 1.]\n",
      " [1. 1. 1. 1.]]\n"
     ]
    }
   ],
   "source": [
    "import numpy as np\n",
    "\n",
    "# Define Matrix A2\n",
    "A2 = np.array([[1, 2, 3, 4], [5, 6, 7, 8], [9, 10, 11, 12]])\n",
    "\n",
    "# Define Matrix B2\n",
    "B2 = np.array([[1, 2, 3, 4], [5, 6, 7, 8], [9, 10, 11, 12]])\n",
    "\n",
    "#multiplication\n",
    "elementwise_multiplication = A2 * B2\n",
    "\n",
    "\n",
    "matrix_multiplication = np.dot(A2, B2.T) \n",
    "# Addition\n",
    "addition = A2 + B2\n",
    "\n",
    "# Subtraction\n",
    "subtraction = A2 - B2\n",
    "\n",
    "# Division (element-wise)\n",
    "division = B2 / A2\n",
    "\n",
    "print(\"Element-wise Multiplication:\\n\", elementwise_multiplication)\n",
    "print(\"\\nMatrix Multiplication:\\n\", matrix_multiplication)\n",
    "print(\"\\nAddition:\\n\", addition)\n",
    "print(\"\\nSubtraction:\\n\", subtraction)\n",
    "print(\"\\nDivision (Element-wise):\\n\", division)"
   ]
  },
  {
   "cell_type": "code",
   "execution_count": 17,
   "id": "dbface19-6568-4e47-b4e4-be0ad7cf05d1",
   "metadata": {},
   "outputs": [
    {
     "name": "stdout",
     "output_type": "stream",
     "text": [
      "Original array: [1 2 3 4]\n",
      "Swapped array: [16777216 33554432 50331648 67108864]\n"
     ]
    }
   ],
   "source": [
    "import numpy as np\n",
    "\n",
    "\n",
    "arr = np.array([1, 2, 3, 4], dtype=np.int32)\n",
    "\n",
    "\n",
    "swapped_arr = arr.byteswap()\n",
    "\n",
    "print(\"Original array:\", arr)\n",
    "print(\"Swapped array:\", swapped_arr)\n"
   ]
  },
  {
   "cell_type": "code",
   "execution_count": 18,
   "id": "ff8b3bfe-ecbe-4df4-93ed-a8834b73a805",
   "metadata": {},
   "outputs": [
    {
     "name": "stdout",
     "output_type": "stream",
     "text": [
      "Original array:\n",
      "[ 0  1  2  3  4  5  6  7  8  9 10 11]\n",
      "\n",
      "Reshaped array:\n",
      "[[ 0  1  2  3]\n",
      " [ 4  5  6  7]\n",
      " [ 8  9 10 11]]\n"
     ]
    }
   ],
   "source": [
    "import numpy as np\n",
    "\n",
    "\n",
    "arr = np.arange(12)\n",
    "\n",
    "\n",
    "reshaped_arr = np.reshape(arr, (3, 4))\n",
    "\n",
    "print(\"Original array:\")\n",
    "print(arr)\n",
    "print(\"\\nReshaped array:\")\n",
    "print(reshaped_arr)"
   ]
  },
  {
   "cell_type": "code",
   "execution_count": 19,
   "id": "6a4ea9c5-5f6d-4f1f-951b-3908925b6686",
   "metadata": {},
   "outputs": [
    {
     "name": "stdout",
     "output_type": "stream",
     "text": [
      "[[11 22 33]\n",
      " [14 25 36]]\n"
     ]
    }
   ],
   "source": [
    "import numpy as np\n",
    "\n",
    "\n",
    "arr1 = np.array([[1, 2, 3],\n",
    "                 [4, 5, 6]])\n",
    "\n",
    "\n",
    "arr2 = np.array([10, 20, 30])\n",
    "\n",
    "\n",
    "result = arr1 + arr2\n",
    "\n",
    "print(result)"
   ]
  },
  {
   "cell_type": "code",
   "execution_count": null,
   "id": "b4138a7b-93fd-4ad9-a2b7-df2d7b6fbf24",
   "metadata": {},
   "outputs": [],
   "source": []
  }
 ],
 "metadata": {
  "kernelspec": {
   "display_name": "Python 3 (ipykernel)",
   "language": "python",
   "name": "python3"
  },
  "language_info": {
   "codemirror_mode": {
    "name": "ipython",
    "version": 3
   },
   "file_extension": ".py",
   "mimetype": "text/x-python",
   "name": "python",
   "nbconvert_exporter": "python",
   "pygments_lexer": "ipython3",
   "version": "3.10.8"
  }
 },
 "nbformat": 4,
 "nbformat_minor": 5
}
